{
 "cells": [
  {
   "cell_type": "markdown",
   "metadata": {},
   "source": [
    "# 4족로봇 시뮬레이터 테스트\n",
    "\n",
    "[link](https://github.com/OpenQuadruped/spot_mini_mini/blob/spot/spot_bullet/src/env_tester.py)\n",
    "\n",
    "210513"
   ]
  },
  {
   "cell_type": "code",
   "execution_count": null,
   "metadata": {},
   "outputs": [],
   "source": [
    "# setup\n",
    "# !pip install gym\n",
    "# !pip install pybullet"
   ]
  },
  {
   "cell_type": "code",
   "execution_count": 1,
   "metadata": {
    "code_folding": [
     0
    ]
   },
   "outputs": [
    {
     "name": "stdout",
     "output_type": "stream",
     "text": [
      "../..\\spotmicro\\util\\pybullet_data\n"
     ]
    }
   ],
   "source": [
    "# load library\n",
    "#!/usr/bin/env python\n",
    "\n",
    "import numpy as np\n",
    "import matplotlib.pyplot as plt\n",
    "import copy\n",
    "\n",
    "import sys\n",
    "\n",
    "sys.path.append('../../')\n",
    "\n",
    "from spotmicro.GymEnvs.spot_bezier_env import spotBezierEnv\n",
    "from spotmicro.util.gui import GUI\n",
    "from spotmicro.Kinematics.SpotKinematics import SpotModel\n",
    "from spotmicro.Kinematics.LieAlgebra import RPY\n",
    "from spotmicro.GaitGenerator.Bezier import BezierGait\n",
    "from spotmicro.spot_env_randomizer import SpotEnvRandomizer\n",
    "\n",
    "# TESTING\n",
    "from spotmicro.OpenLoopSM.SpotOL import BezierStepper\n",
    "\n",
    "import time\n",
    "import os\n",
    "\n",
    "import argparse\n"
   ]
  },
  {
   "cell_type": "code",
   "execution_count": 2,
   "metadata": {
    "code_folding": [
     0
    ]
   },
   "outputs": [
    {
     "name": "stdout",
     "output_type": "stream",
     "text": [
      "STARTING SPOT TEST ENV\n"
     ]
    }
   ],
   "source": [
    "# load config\n",
    "class config:\n",
    "    def __init__(self):\n",
    "        self.DebugRack=False  # Put Spot on an Elevated Rack\n",
    "        self.DebugPath=False  # Draw Spot's Foot Path\n",
    "        self.HeightField=False  # Use HeightField\n",
    "        self.DontRandomize=False  # Do NOT Randomize State and Environment.\n",
    "        self.AutoYaw=False  # Automatically Adjust Spot's Yaw\n",
    "        self.AutoReset=False  # Automatically Reset Environment When Spot Falls\n",
    "\n",
    "ARGS=config()\n",
    "\n",
    "# set config\n",
    "print(\"STARTING SPOT TEST ENV\")\n",
    "seed = 0\n",
    "max_timesteps = 4e6\n",
    "\n",
    "# Find abs path to this file\n",
    "my_path = os.getcwd()  # 내 현 위치\n",
    "results_path = os.path.join(my_path, \"../results\")\n",
    "models_path = os.path.join(my_path, \"../models\")\n",
    "\n",
    "if not os.path.exists(results_path):\n",
    "    os.makedirs(results_path)\n",
    "\n",
    "if not os.path.exists(models_path):\n",
    "    os.makedirs(models_path)\n",
    "\n",
    "# set config\n",
    "if ARGS.DebugRack:\n",
    "    on_rack = True\n",
    "else:\n",
    "    on_rack = False\n",
    "\n",
    "if ARGS.DebugPath:\n",
    "    draw_foot_path = True\n",
    "else:\n",
    "    draw_foot_path = False\n",
    "\n",
    "if ARGS.HeightField:\n",
    "    height_field = True\n",
    "else:\n",
    "    height_field = False\n",
    "\n",
    "if ARGS.DontRandomize:\n",
    "    env_randomizer = None\n",
    "else:\n",
    "    env_randomizer = SpotEnvRandomizer()"
   ]
  },
  {
   "cell_type": "code",
   "execution_count": 3,
   "metadata": {
    "code_folding": [
     0
    ]
   },
   "outputs": [
    {
     "name": "stdout",
     "output_type": "stream",
     "text": [
      "[9, 13, 18, 22]\n",
      "Action SPACE: Box(-1.0, 1.0, (14,), float32)\n",
      "STATE DIM: 16\n",
      "ACTION DIM: 14\n"
     ]
    },
    {
     "name": "stderr",
     "output_type": "stream",
     "text": [
      "C:\\Users\\go\\.conda\\envs\\ebest\\lib\\site-packages\\gym\\logger.py:30: UserWarning: \u001b[33mWARN: Box bound precision lowered by casting to float32\u001b[0m\n",
      "  warnings.warn(colorize('%s: %s'%('WARN', msg % args), 'yellow'))\n"
     ]
    }
   ],
   "source": [
    "# GUI 창 띄우기\n",
    "env = spotBezierEnv(render=True,\n",
    "                    on_rack=on_rack,\n",
    "                    height_field=height_field,\n",
    "                    draw_foot_path=draw_foot_path,\n",
    "                    env_randomizer=env_randomizer)\n",
    "\n",
    "# Set seeds\n",
    "env.seed(seed)\n",
    "np.random.seed(seed)\n",
    "\n",
    "state_dim = env.observation_space.shape[0]\n",
    "print(\"STATE DIM: {}\".format(state_dim))\n",
    "action_dim = env.action_space.shape[0]\n",
    "print(\"ACTION DIM: {}\".format(action_dim))\n",
    "max_action = float(env.action_space.high[0])\n",
    "\n",
    "# state : [IMU_Roll, IMU_Pitch, IMU_GX, IMU_GY, IMU_GZ, IMU_AX, IMU_AY, IMU_AZ]\n",
    "# state : [0.0,       -0.0,      0.0,    0.0,    0.0,    0,      0,     0,       0.0, 0.0, 0.0, 0.0, 0, 0, 0, 0]\n",
    "state = env.reset()\n",
    "   \n",
    "    \n",
    "g_u_i = GUI(env.spot.quadruped)  # 오른쪽 Params에 x, y, z, roll, pitch 등 가져오기\n",
    "\n",
    "spot = SpotModel()  # kinematics(운동학)를 불러온다\n",
    "T_bf0 = spot.WorldToFoot  # \n",
    "T_bf = copy.deepcopy(T_bf0)\n",
    "\n",
    "bzg = BezierGait(dt=env._time_step)  # High speed trot-running: Implementation of a hierarchical controller using proprioceptive impedance control on the MIT Cheetah\n",
    "bz_step = BezierStepper(dt=env._time_step, mode=0)\n",
    "\n",
    "# action = array([ 0.07783558,  0.42717528,  0.8579016 ,  0.967464  ,  0.411128  ,\n",
    "#                -0.28735796, -0.81569785, -0.06614858, -0.8572826 ,  0.09210487,\n",
    "#                 0.4450293 ,  0.65074676, -0.05096681, -0.9734769 ], dtype=float32)\n",
    "action = env.action_space.sample()\n",
    "\n",
    "FL_phases, FR_phases, BL_phases, BR_phases = [], [], [], []\n",
    "FL_Elbow = []\n",
    "save_joint_angles = []  # 실행중 모든 joint 각도를 저장하자(degree)\n",
    "\n",
    "yaw = 0.0"
   ]
  },
  {
   "cell_type": "code",
   "execution_count": 4,
   "metadata": {
    "code_folding": [
     0
    ],
    "scrolled": true
   },
   "outputs": [
    {
     "name": "stdout",
     "output_type": "stream",
     "text": [
      "STARTED SPOT TEST ENV\n"
     ]
    },
    {
     "ename": "KeyboardInterrupt",
     "evalue": "",
     "output_type": "error",
     "traceback": [
      "\u001b[1;31m---------------------------------------------------------------------------\u001b[0m",
      "\u001b[1;31mKeyboardInterrupt\u001b[0m                         Traceback (most recent call last)",
      "\u001b[1;32m<ipython-input-4-b9829f09dfa1>\u001b[0m in \u001b[0;36m<module>\u001b[1;34m\u001b[0m\n\u001b[0;32m     91\u001b[0m     \u001b[0menv\u001b[0m\u001b[1;33m.\u001b[0m\u001b[0mspot\u001b[0m\u001b[1;33m.\u001b[0m\u001b[0mGetExternalObservations\u001b[0m\u001b[1;33m(\u001b[0m\u001b[0mbzg\u001b[0m\u001b[1;33m,\u001b[0m \u001b[0mbz_step\u001b[0m\u001b[1;33m)\u001b[0m\u001b[1;33m\u001b[0m\u001b[1;33m\u001b[0m\u001b[0m\n\u001b[0;32m     92\u001b[0m     \u001b[1;31m# Step\u001b[0m\u001b[1;33m\u001b[0m\u001b[1;33m\u001b[0m\u001b[1;33m\u001b[0m\u001b[0m\n\u001b[1;32m---> 93\u001b[1;33m     \u001b[0mstate\u001b[0m\u001b[1;33m,\u001b[0m \u001b[0mreward\u001b[0m\u001b[1;33m,\u001b[0m \u001b[0mdone\u001b[0m\u001b[1;33m,\u001b[0m \u001b[0m_\u001b[0m \u001b[1;33m=\u001b[0m \u001b[0menv\u001b[0m\u001b[1;33m.\u001b[0m\u001b[0mstep\u001b[0m\u001b[1;33m(\u001b[0m\u001b[0maction\u001b[0m\u001b[1;33m)\u001b[0m  \u001b[1;31m# 매 step마다 state 갱신\u001b[0m\u001b[1;33m\u001b[0m\u001b[1;33m\u001b[0m\u001b[0m\n\u001b[0m\u001b[0;32m     94\u001b[0m \u001b[1;31m#     print('Roll/Pitch/GX/GY/GZ/AX/AY/AZ : %.4f/%.4f/%.4f/%.4f/%.4f/%.4f/%.4f/%.4f'%(state[0], state[1], state[2], state[3], state[4], state[5], state[6], state[7]))\u001b[0m\u001b[1;33m\u001b[0m\u001b[1;33m\u001b[0m\u001b[1;33m\u001b[0m\u001b[0m\n\u001b[0;32m     95\u001b[0m \u001b[1;33m\u001b[0m\u001b[0m\n",
      "\u001b[1;32m~\\Desktop\\AI로봇랩\\4족 강의자료\\simulator\\spot_mini_mini-spot\\spotmicro\\GymEnvs\\spot_bezier_env.py\u001b[0m in \u001b[0;36mstep\u001b[1;34m(self, action)\u001b[0m\n\u001b[0;32m    183\u001b[0m \u001b[1;33m\u001b[0m\u001b[0m\n\u001b[0;32m    184\u001b[0m         \u001b[0maction\u001b[0m \u001b[1;33m=\u001b[0m \u001b[0mself\u001b[0m\u001b[1;33m.\u001b[0m\u001b[0m_transform_action_to_motor_command\u001b[0m\u001b[1;33m(\u001b[0m\u001b[0maction\u001b[0m\u001b[1;33m)\u001b[0m\u001b[1;33m\u001b[0m\u001b[1;33m\u001b[0m\u001b[0m\n\u001b[1;32m--> 185\u001b[1;33m         \u001b[0mself\u001b[0m\u001b[1;33m.\u001b[0m\u001b[0mspot\u001b[0m\u001b[1;33m.\u001b[0m\u001b[0mStep\u001b[0m\u001b[1;33m(\u001b[0m\u001b[0maction\u001b[0m\u001b[1;33m)\u001b[0m\u001b[1;33m\u001b[0m\u001b[1;33m\u001b[0m\u001b[0m\n\u001b[0m\u001b[0;32m    186\u001b[0m         \u001b[1;31m# NOTE: SMACH is passed to the reward method\u001b[0m\u001b[1;33m\u001b[0m\u001b[1;33m\u001b[0m\u001b[1;33m\u001b[0m\u001b[0m\n\u001b[0;32m    187\u001b[0m         \u001b[0mreward\u001b[0m \u001b[1;33m=\u001b[0m \u001b[0mself\u001b[0m\u001b[1;33m.\u001b[0m\u001b[0m_reward\u001b[0m\u001b[1;33m(\u001b[0m\u001b[1;33m)\u001b[0m\u001b[1;33m\u001b[0m\u001b[1;33m\u001b[0m\u001b[0m\n",
      "\u001b[1;32m~\\Desktop\\AI로봇랩\\4족 강의자료\\simulator\\spot_mini_mini-spot\\spotmicro\\spot.py\u001b[0m in \u001b[0;36mStep\u001b[1;34m(self, action)\u001b[0m\n\u001b[0;32m    823\u001b[0m             \u001b[0mself\u001b[0m\u001b[1;33m.\u001b[0m\u001b[0mApplyAction\u001b[0m\u001b[1;33m(\u001b[0m\u001b[0maction\u001b[0m\u001b[1;33m)\u001b[0m\u001b[1;33m\u001b[0m\u001b[1;33m\u001b[0m\u001b[0m\n\u001b[0;32m    824\u001b[0m             \u001b[0mself\u001b[0m\u001b[1;33m.\u001b[0m\u001b[0m_pybullet_client\u001b[0m\u001b[1;33m.\u001b[0m\u001b[0mstepSimulation\u001b[0m\u001b[1;33m(\u001b[0m\u001b[1;33m)\u001b[0m\u001b[1;33m\u001b[0m\u001b[1;33m\u001b[0m\u001b[0m\n\u001b[1;32m--> 825\u001b[1;33m             \u001b[0mself\u001b[0m\u001b[1;33m.\u001b[0m\u001b[0mRealisticObservation\u001b[0m\u001b[1;33m(\u001b[0m\u001b[1;33m)\u001b[0m\u001b[1;33m\u001b[0m\u001b[1;33m\u001b[0m\u001b[0m\n\u001b[0m\u001b[0;32m    826\u001b[0m             \u001b[0mself\u001b[0m\u001b[1;33m.\u001b[0m\u001b[0m_step_counter\u001b[0m \u001b[1;33m+=\u001b[0m \u001b[1;36m1\u001b[0m\u001b[1;33m\u001b[0m\u001b[1;33m\u001b[0m\u001b[0m\n\u001b[0;32m    827\u001b[0m \u001b[1;33m\u001b[0m\u001b[0m\n",
      "\u001b[1;31mKeyboardInterrupt\u001b[0m: "
     ]
    }
   ],
   "source": [
    "# 모든 다리 초기값 : -0.0, 39.7532325075732, -75.21234325859432\n",
    "# 일단 초기 다리각도가 그림과 같아지도록 맞추자\n",
    "# start!\n",
    "print(\"STARTED SPOT TEST ENV\")\n",
    "t = 0\n",
    "while t < (int(max_timesteps)):\n",
    "    # 1s에 100번 돈다\n",
    "#     if t > 100:  break\n",
    "    \n",
    "    bz_step.ramp_up()\n",
    "\n",
    "    pos, orn, StepLength, LateralFraction, YawRate, \\\n",
    "        StepVelocity, ClearanceHeight, PenetrationDepth = bz_step.StateMachine()  # 환경에서 각 값들을 불러온다\n",
    "\n",
    "    pos, orn, StepLength, LateralFraction, YawRate, \\\n",
    "        StepVelocity, ClearanceHeight, PenetrationDepth, SwingPeriod = g_u_i.UserInput()  # 오른쪽 창에 입력한걸 불러온다\n",
    "\n",
    "#     StepLength = 0.025  # 전진\n",
    "    \n",
    "    # Update Swing Period\n",
    "    bzg.Tswing = SwingPeriod  # 0.2\n",
    "\n",
    "    yaw = env.return_yaw()  # 계속 변한다, 환경에서 가져온다\n",
    "    \n",
    "    P_yaw = 5.0  # 뭐지?\n",
    "\n",
    "    if ARGS.AutoYaw:\n",
    "        YawRate += -yaw * P_yaw\n",
    "\n",
    "    # print(\"YAW RATE: {}\".format(YawRate))\n",
    "\n",
    "    # TEMP\n",
    "    bz_step.StepLength = StepLength\n",
    "    bz_step.LateralFraction = LateralFraction\n",
    "    bz_step.YawRate = YawRate\n",
    "    bz_step.StepVelocity = StepVelocity\n",
    "\n",
    "    \n",
    "    contacts = state[-4:]  # array([1., 1., 1., 1.])\n",
    "\n",
    "    # env.spot.LegPhases = [0.0, 0.5, 0.5, 0.0]\n",
    "    FL_phases.append(env.spot.LegPhases[0])\n",
    "    FR_phases.append(env.spot.LegPhases[1])\n",
    "    BL_phases.append(env.spot.LegPhases[2])\n",
    "    BR_phases.append(env.spot.LegPhases[3])    \n",
    "    \n",
    "    # Get Desired Foot Poses\n",
    "#     T_bf = OrderedDict([('FL',\n",
    "#                           array([[ 1.        ,  0.        ,  0.        ,  0.10334008],\n",
    "#                                  [ 0.        ,  1.        ,  0.        ,  0.0925    ],\n",
    "#                                  [ 0.        ,  0.        ,  1.        , -0.20224553],\n",
    "#                                  [ 0.        ,  0.        ,  0.        ,  1.        ]])),\n",
    "#                          ('FR',\n",
    "#                           array([[ 1.        ,  0.        ,  0.        ,  0.14503211],\n",
    "#                                  [ 0.        ,  1.        ,  0.        , -0.0925    ],\n",
    "#                                  [ 0.        ,  0.        ,  1.        , -0.13379757],\n",
    "#                                  [ 0.        ,  0.        ,  0.        ,  1.        ]])),\n",
    "#                          ('BL',\n",
    "#                           array([[ 1.        ,  0.        ,  0.        , -0.08496789],\n",
    "#                                  [ 0.        ,  1.        ,  0.        ,  0.0925    ],\n",
    "#                                  [ 0.        ,  0.        ,  1.        , -0.13379757],\n",
    "#                                  [ 0.        ,  0.        ,  0.        ,  1.        ]])),\n",
    "#                          ('BR',\n",
    "#                           array([[ 1.        ,  0.        ,  0.        , -0.12665992],\n",
    "#                                  [ 0.        ,  1.        ,  0.        , -0.0925    ],\n",
    "#                                  [ 0.        ,  0.        ,  1.        , -0.20224553],\n",
    "#                                  [ 0.        ,  0.        ,  0.        ,  1.        ]]))])    \n",
    "    \n",
    "    T_bf = bzg.GenerateTrajectory(StepLength, LateralFraction, YawRate,\n",
    "                                  StepVelocity, T_bf0, T_bf,\n",
    "                                  ClearanceHeight, PenetrationDepth,\n",
    "                                  contacts)\n",
    "# joint_angles = array([[-0.        ,  0.6938248 , -1.31270303],   FL(어깨(좌우, -가 안쪽, ), 어깨(앞뒤), 팔꿈치(앞뒤))\n",
    "#                        [-0.        ,  0.6938248 , -1.31270303],  FE\n",
    "#                        [-0.        ,  0.6938248 , -1.31270303],  BL\n",
    "#                        [-0.        ,  0.6938248 , -1.31270303]]) BR    \n",
    "    joint_angles = spot.IK(orn, pos, T_bf)  # position to angle, !! 여기 공부하자\n",
    "\n",
    "    FL_Elbow.append(np.degrees(joint_angles[0][-1]))  # 75도\n",
    "    save_joint_angles.append(joint_angles)\n",
    "    \n",
    "#     # 각도 plot\n",
    "#     for i, (key, Tbf_in) in enumerate(T_bf.items()):\n",
    "#         print(\"{}: \\t Angle: {}\".format(key, np.degrees(joint_angles[i])))\n",
    "#     print(\"-------------------------\")\n",
    "\n",
    "#     joint_angles[0][0] = +1\n",
    "\n",
    "    env.pass_joint_angles(joint_angles.reshape(-1))\n",
    "    # Get External Observations\n",
    "    env.spot.GetExternalObservations(bzg, bz_step)\n",
    "    # Step\n",
    "    state, reward, done, _ = env.step(action)  # 매 step마다 state 갱신\n",
    "#     print('Roll/Pitch/GX/GY/GZ/AX/AY/AZ : %.4f/%.4f/%.4f/%.4f/%.4f/%.4f/%.4f/%.4f'%(state[0], state[1], state[2], state[3], state[4], state[5], state[6], state[7]))\n",
    "    \n",
    "    if done:\n",
    "        print(\"DONE\")\n",
    "        if ARGS.AutoReset:\n",
    "            env.reset()\n",
    "            # plt.plot()\n",
    "            # plt.plot(FL_phases, label=\"FL\")\n",
    "            # plt.plot(FR_phases, label=\"FR\")\n",
    "            # plt.plot(BL_phases, label=\"BL\")\n",
    "            # plt.plot(BR_phases, label=\"BR\")\n",
    "            plt.plot(FL_Elbow, label=\"FL ELbow (Deg)\")\n",
    "            plt.xlabel(\"dt\")\n",
    "            plt.ylabel(\"value\")\n",
    "            plt.title(\"Leg Phases\")\n",
    "            plt.legend()\n",
    "            plt.show()\n",
    "\n",
    "    # time.sleep(1.0)\n",
    "\n",
    "    t += 1\n",
    "env.close()\n",
    "# joint angle(radian to degree)\n",
    "Front_Left, Front_Right, Back_Left, Back_Right = [], [], [], []\n",
    "for idx, joint_angles in enumerate(save_joint_angles):\n",
    "    Front_Left.append([np.degrees(tmp) for tmp in joint_angles[0]])\n",
    "    Front_Right.append([np.degrees(tmp) for tmp in joint_angles[1]])\n",
    "    Back_Left.append([np.degrees(tmp) for tmp in joint_angles[2]])\n",
    "    Back_Right.append([np.degrees(tmp) for tmp in joint_angles[3]])\n",
    "\n",
    "# plot\n",
    "plt.plot()\n",
    "plt.plot(Front_Left, label=\"FL\")\n",
    "plt.plot(Front_Right, label=\"FR\")\n",
    "plt.plot(Back_Left, label=\"BL\")\n",
    "plt.plot(Back_Right, label=\"BR\")\n",
    "# plt.plot(Front_Left, label=\"FL ELbow (Deg)\")\n",
    "plt.xlabel(\"dt\")\n",
    "plt.ylabel(\"degree\")\n",
    "plt.title(\"Leg Phases\")\n",
    "plt.legend()\n",
    "plt.show()"
   ]
  },
  {
   "cell_type": "code",
   "execution_count": null,
   "metadata": {},
   "outputs": [],
   "source": []
  },
  {
   "cell_type": "code",
   "execution_count": 5,
   "metadata": {
    "code_folding": [
     0
    ]
   },
   "outputs": [
    {
     "data": {
      "image/png": "[encoded data removed]",
      "text/plain": [
       "<Figure size 432x288 with 1 Axes>"
      ]
     },
     "metadata": {
      "needs_background": "light"
     },
     "output_type": "display_data"
    }
   ],
   "source": [
    "## show trajectory\n",
    "env.close()\n",
    "# joint angle(radian to degree)\n",
    "Front_Left, Front_Right, Back_Left, Back_Right = [], [], [], []\n",
    "for idx, joint_angles in enumerate(save_joint_angles):\n",
    "    Front_Left.append([np.degrees(tmp) for tmp in joint_angles[0]])\n",
    "    Front_Right.append([np.degrees(tmp) for tmp in joint_angles[1]])\n",
    "    Back_Left.append([np.degrees(tmp) for tmp in joint_angles[2]])\n",
    "    Back_Right.append([np.degrees(tmp) for tmp in joint_angles[3]])\n",
    "\n",
    "# plot\n",
    "plt.plot()\n",
    "plt.plot(Front_Left, label=\"FL\")\n",
    "plt.plot(Front_Right, label=\"FR\")\n",
    "plt.plot(Back_Left, label=\"BL\")\n",
    "plt.plot(Back_Right, label=\"BR\")\n",
    "# plt.plot(Front_Left, label=\"FL ELbow (Deg)\")\n",
    "plt.xlabel(\"dt\")\n",
    "plt.ylabel(\"degree\")\n",
    "plt.title(\"Leg Phases\")\n",
    "plt.legend()\n",
    "plt.show()"
   ]
  },
  {
   "cell_type": "code",
   "execution_count": null,
   "metadata": {},
   "outputs": [],
   "source": []
  },
  {
   "cell_type": "code",
   "execution_count": null,
   "metadata": {},
   "outputs": [],
   "source": []
  },
  {
   "cell_type": "code",
   "execution_count": 18,
   "metadata": {},
   "outputs": [
    {
     "ename": "SyntaxError",
     "evalue": "unexpected EOF while parsing (<ipython-input-18-322d3febbcee>, line 20)",
     "output_type": "error",
     "traceback": [
      "\u001b[1;36m  File \u001b[1;32m\"<ipython-input-18-322d3febbcee>\"\u001b[1;36m, line \u001b[1;32m20\u001b[0m\n\u001b[1;33m    # state, reward, done, _ = env.step(action)  # 매 step마다 state 갱신\u001b[0m\n\u001b[1;37m                                                                    ^\u001b[0m\n\u001b[1;31mSyntaxError\u001b[0m\u001b[1;31m:\u001b[0m unexpected EOF while parsing\n"
     ]
    }
   ],
   "source": [
    "# 모든 다리 초기값 : -0.0, 39.7532325075732, -75.21234325859432\n",
    "\n",
    "# joint_angles = array([[-0.        ,  0.6938248 , -1.31270303],   FL\n",
    "#                        [-0.        ,  0.6938248 , -1.31270303],  FR\n",
    "#                        [-0.        ,  0.6938248 , -1.31270303],  BL\n",
    "#                        [-0.        ,  0.6938248 , -1.31270303]]) BR    \n",
    "\n",
    "# FL(어깨(좌우, -가 안쪽, +가 바깥쪽), 어깨(앞뒤, -가 앞쪽, +가 뒷쪽), 팔꿈치(앞뒤, -가 앞쪽, +가 뒤쪽))\n",
    "# FR(어깨(좌우, -가 바깥쪽, +가 안쪽), 어깨(앞뒤, -가 앞쪽, +가 뒷쪽), 팔꿈치(앞뒤, -가 앞쪽, +가 뒤쪽))\n",
    "# BL(어깨(좌우, -가 안쪽, +가 바깥쪽), 어깨(앞뒤, -가 앞쪽, +가 뒷쪽), 팔꿈치(앞뒤, -가 앞쪽, +가 뒤쪽))\n",
    "# BR(어깨(좌우, -가 바깥쪽, +가 안쪽), 어깨(앞뒤, -가 앞쪽, +가 뒷쪽), 팔꿈치(앞뒤, -가 앞쪽, +가 뒤쪽))\n",
    "\n",
    "joint_angles[3][0] = 0.9\n",
    "\n",
    "for t in range(50):\n",
    "# env.pass_joint_angles(joint_angles.reshape(-1))\n",
    "# # Get External Observations\n",
    "# env.spot.GetExternalObservations(bzg, bz_step)\n",
    "# # Step\n",
    "# state, reward, done, _ = env.step(action)  # 매 step마다 state 갱신"
   ]
  },
  {
   "cell_type": "code",
   "execution_count": null,
   "metadata": {},
   "outputs": [],
   "source": []
  },
  {
   "cell_type": "code",
   "execution_count": null,
   "metadata": {},
   "outputs": [],
   "source": []
  },
  {
   "cell_type": "code",
   "execution_count": null,
   "metadata": {},
   "outputs": [],
   "source": []
  }
 ],
 "metadata": {
  "kernelspec": {
   "display_name": "Python 3",
   "language": "python",
   "name": "python3"
  },
  "language_info": {
   "codemirror_mode": {
    "name": "ipython",
    "version": 3
   },
   "file_extension": ".py",
   "mimetype": "text/x-python",
   "name": "python",
   "nbconvert_exporter": "python",
   "pygments_lexer": "ipython3",
   "version": "3.7.9"
  },
  "varInspector": {
   "cols": {
    "lenName": 16,
    "lenType": 16,
    "lenVar": 40
   },
   "kernels_config": {
    "python": {
     "delete_cmd_postfix": "",
     "delete_cmd_prefix": "del ",
     "library": "var_list.py",
     "varRefreshCmd": "print(var_dic_list())"
    },
    "r": {
     "delete_cmd_postfix": ") ",
     "delete_cmd_prefix": "rm(",
     "library": "var_list.r",
     "varRefreshCmd": "cat(var_dic_list()) "
    }
   },
   "types_to_exclude": [
    "module",
    "function",
    "builtin_function_or_method",
    "instance",
    "_Feature"
   ],
   "window_display": false
  }
 },
 "nbformat": 4,
 "nbformat_minor": 4
}
